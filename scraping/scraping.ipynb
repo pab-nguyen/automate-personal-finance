{
 "cells": [
  {
   "cell_type": "code",
   "execution_count": 9,
   "metadata": {},
   "outputs": [],
   "source": [
    "from selenium import webdriver\n",
    "from selenium.common.exceptions import StaleElementReferenceException\n",
    "from selenium.webdriver.chrome.options import Options\n",
    "from selenium.webdriver.common.keys import Keys\n",
    "from selenium.webdriver.common.by import By\n",
    "from selenium.webdriver.chrome.service import Service\n",
    "\n",
    "import time\n",
    "import json\n",
    "import os\n",
    "import pandas as pd\n",
    "from datetime import date as dt"
   ]
  },
  {
   "cell_type": "code",
   "execution_count": 10,
   "metadata": {},
   "outputs": [
    {
     "data": {
      "text/plain": [
       "'c:\\\\Users\\\\Phan\\\\Downloads\\\\Github\\\\automate-personal-finance\\\\data\\\\empower_input'"
      ]
     },
     "execution_count": 10,
     "metadata": {},
     "output_type": "execute_result"
    }
   ],
   "source": [
    "download =  os.path.dirname(os.getcwd()) + \"\\data\\empower_input\"\n",
    "download"
   ]
  },
  {
   "cell_type": "code",
   "execution_count": 11,
   "metadata": {},
   "outputs": [],
   "source": [
    "# add options\n",
    "opts = webdriver.ChromeOptions()\n",
    "opts.add_argument(\"--user-data-dir=C:/Users/Phan/Downloads/Github/personal-finance/scraping/UserData/\")\n",
    "# opts.add_argument(\"--headless\")\n",
    "\n",
    "# open driver\n",
    "driver = webdriver.Chrome(service=Service(),options=opts)\n",
    "\n",
    "driver.get(\"https://home.personalcapital.com/page/login/goHome\")\n",
    "driver.implicitly_wait(20)\n",
    "\n",
    "\n",
    "params = {'cmd': 'Page.setDownloadBehavior', 'params': {'behavior': 'allow', 'downloadPath': download}}\n",
    "driver.command_executor._commands[\"send_command\"] = (\"POST\", '/session/$sessionId/chromium/send_command')\n",
    "driver.execute(\"send_command\", params)\n",
    "\n",
    "time.sleep(5)"
   ]
  },
  {
   "cell_type": "code",
   "execution_count": 12,
   "metadata": {},
   "outputs": [],
   "source": [
    "#read json file for credentials\n",
    "f= open('credentials.json')\n",
    "data = json.load(f)\n",
    "username = data['username']\n",
    "password = data['password']\n",
    "\n",
    "try:  \n",
    "    input = driver.find_element(By.NAME,\"username\")\n",
    "    input.send_keys(username)\n",
    "    input.send_keys(Keys.RETURN)\n",
    "except:\n",
    "    pass\n",
    "\n",
    "try:\n",
    "    input = driver.find_element(By.NAME,\"passwd\")\n",
    "    input.send_keys(password)\n",
    "    input.send_keys(Keys.RETURN)\n",
    "except:\n",
    "    pass\n",
    "    \n",
    "time.sleep(30)"
   ]
  },
  {
   "cell_type": "code",
   "execution_count": 13,
   "metadata": {},
   "outputs": [],
   "source": [
    "driver.get(\"https://home.personalcapital.com/page/login/app#/net-worth\")\n",
    "time.sleep(5)\n",
    "# find investment account and their balance from Net Worth page of Empower\n",
    "data = []\n",
    "for i in driver.find_element(By.ID,\"allTable_wrapper\").find_elements(By.XPATH,\"//tr[@data-group='-1-investment']\"):\n",
    "    acc = i.find_element(By.CLASS_NAME,\"pc-datagrid__row-description\").text\n",
    "    amt = i.find_element(By.CLASS_NAME,\"tabular-numbers\").text.replace('$',\"\").replace(',',\"\")\n",
    "    data.append([acc,amt,dt.today()])\n",
    "# add their values to a dataframe for later use\n",
    "df = pd.DataFrame(data, columns = ['Account', 'Balance', 'Last Updated'])\n",
    "df[\"Balance\"] = pd.to_numeric(df[\"Balance\"])\n",
    "df.to_csv('../data/other_input/investment_balance.csv',encoding='utf-8', index=False)"
   ]
  },
  {
   "cell_type": "code",
   "execution_count": 14,
   "metadata": {},
   "outputs": [],
   "source": [
    "driver.get(\"https://home.personalcapital.com/page/login/app#/all-transactions\")\n",
    "time.sleep(10)\n",
    "\n",
    "driver.find_element(By.XPATH,\"//button[@class='pc-btn pc-btn--tiny qa-export-csv-btn']\").click()\n",
    "time.sleep(5)\n"
   ]
  },
  {
   "cell_type": "code",
   "execution_count": 15,
   "metadata": {},
   "outputs": [],
   "source": [
    "driver.quit()"
   ]
  }
 ],
 "metadata": {
  "kernelspec": {
   "display_name": "Python 3",
   "language": "python",
   "name": "python3"
  },
  "language_info": {
   "codemirror_mode": {
    "name": "ipython",
    "version": 3
   },
   "file_extension": ".py",
   "mimetype": "text/x-python",
   "name": "python",
   "nbconvert_exporter": "python",
   "pygments_lexer": "ipython3",
   "version": "3.11.4"
  },
  "orig_nbformat": 4
 },
 "nbformat": 4,
 "nbformat_minor": 2
}
