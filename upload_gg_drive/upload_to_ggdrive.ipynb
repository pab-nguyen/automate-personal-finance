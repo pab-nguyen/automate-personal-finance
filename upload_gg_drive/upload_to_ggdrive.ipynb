{
 "cells": [
  {
   "cell_type": "code",
   "execution_count": 3,
   "metadata": {},
   "outputs": [],
   "source": [
    "from pydrive.auth import GoogleAuth\n",
    "from pydrive.drive import GoogleDrive\n",
    "import os\n",
    "gauth = GoogleAuth()      \n",
    "drive = GoogleDrive(gauth)\n",
    "gauth.LoadCredentialsFile(\"credentials.json\")\n",
    "\n"
   ]
  },
  {
   "cell_type": "code",
   "execution_count": 12,
   "metadata": {},
   "outputs": [
    {
     "name": "stdout",
     "output_type": "stream",
     "text": [
      "title: Master Ledger.xlsx, id: 1W5M6D6Zyjb0N08uoGEEfDRGNRvZtkJ-4\n",
      "title: investment_balance.csv, id: 1GF0N5Be55zwKf4LyOIlDtHBe392RzXkr\n",
      "title: account_metadata.csv, id: 11UuAh_TT_lr22Pn0GqaA0d1Q9zCOwcEC\n",
      "title: Master Ledger - OLD.xlsx, id: 1jwX_VPCGhab2gxsMIoVXBkwz8ZKXpIh8\n"
     ]
    }
   ],
   "source": [
    "file_list = drive.ListFile({'q': \"'{}' in parents and trashed=false\".format('19HgocA5Cb4QWDHXdD5YDqRg7sxjvIdLA')}).GetList()\n",
    "file_dict = {}\n",
    "for file in file_list:\n",
    "\tprint('title: %s, id: %s' % (file['title'], file['id']))\n",
    "\tfile_dict[file['title']] = file['id']"
   ]
  },
  {
   "cell_type": "code",
   "execution_count": 16,
   "metadata": {},
   "outputs": [
    {
     "data": {
      "text/plain": [
       "['account_metadata.csv',\n",
       " 'investment_balance.csv',\n",
       " 'Master Ledger - OLD.xlsx',\n",
       " 'Master Ledger.xlsx',\n",
       " 'Master Ledger.xlsx - Master_Ledger.csv']"
      ]
     },
     "execution_count": 16,
     "metadata": {},
     "output_type": "execute_result"
    }
   ],
   "source": [
    "files = os.listdir('../data/other_input/') \n",
    "files\n"
   ]
  },
  {
   "cell_type": "code",
   "execution_count": 18,
   "metadata": {},
   "outputs": [],
   "source": [
    "for upload_file in files:\n",
    "\ttry:\n",
    "\t\tgfile = drive.CreateFile({'id': file_dict[upload_file]})\n",
    "\t\t# Read file and set it as the content of this instance.\n",
    "\t\tgfile.SetContentFile('../data/other_input/'+str(upload_file))\n",
    "\t\tgfile.Upload() # Upload the file.\n",
    "\t\tgfile.content.close()\n",
    "\texcept:\n",
    "\t\tpass"
   ]
  }
 ],
 "metadata": {
  "kernelspec": {
   "display_name": "Python 3",
   "language": "python",
   "name": "python3"
  },
  "language_info": {
   "codemirror_mode": {
    "name": "ipython",
    "version": 3
   },
   "file_extension": ".py",
   "mimetype": "text/x-python",
   "name": "python",
   "nbconvert_exporter": "python",
   "pygments_lexer": "ipython3",
   "version": "3.11.4"
  },
  "orig_nbformat": 4
 },
 "nbformat": 4,
 "nbformat_minor": 2
}
