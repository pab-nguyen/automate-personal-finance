{
 "cells": [
  {
   "cell_type": "code",
   "execution_count": 1,
   "metadata": {},
   "outputs": [
    {
     "name": "stderr",
     "output_type": "stream",
     "text": [
      "c:\\Users\\Phan\\AppData\\Local\\Programs\\Python\\Python311\\Lib\\site-packages\\oauth2client\\_helpers.py:255: UserWarning: Cannot access credentials.json: No such file or directory\n",
      "  warnings.warn(_MISSING_FILE_MESSAGE.format(filename))\n"
     ]
    }
   ],
   "source": [
    "from pydrive.auth import GoogleAuth\n",
    "from pydrive.drive import GoogleDrive\n",
    "import os\n",
    "gauth = GoogleAuth()      \n",
    "drive = GoogleDrive(gauth)\n",
    "gauth.LoadCredentialsFile(\"credentials.json\")\n",
    "\n"
   ]
  },
  {
   "cell_type": "code",
   "execution_count": 8,
   "metadata": {},
   "outputs": [
    {
     "name": "stdout",
     "output_type": "stream",
     "text": [
      "title: Master Ledger.xlsx, id: 1W5M6D6Zyjb0N08uoGEEfDRGNRvZtkJ-4\n",
      "title: investment_balance.csv, id: 1GF0N5Be55zwKf4LyOIlDtHBe392RzXkr\n",
      "title: account_metadata.csv, id: 11UuAh_TT_lr22Pn0GqaA0d1Q9zCOwcEC\n",
      "title: Master Ledger - OLD.xlsx, id: 1jwX_VPCGhab2gxsMIoVXBkwz8ZKXpIh8\n"
     ]
    }
   ],
   "source": [
    "file_list = drive.ListFile({'q': \"'{}' in parents and trashed=false\".format('19HgocA5Cb4QWDHXdD5YDqRg7sxjvIdLA')}).GetList()\n",
    "\n",
    "for file in file_list:\n",
    "\tprint('title: %s, id: %s' % (file['title'], file['id']))\n",
    "\tgfile = drive.CreateFile({'id': file['id']})\n",
    "\tgfile.GetContentFile(\"../data/other_input/\"+file['title'])"
   ]
  }
 ],
 "metadata": {
  "kernelspec": {
   "display_name": "Python 3",
   "language": "python",
   "name": "python3"
  },
  "language_info": {
   "codemirror_mode": {
    "name": "ipython",
    "version": 3
   },
   "file_extension": ".py",
   "mimetype": "text/x-python",
   "name": "python",
   "nbconvert_exporter": "python",
   "pygments_lexer": "ipython3",
   "version": "3.11.4"
  },
  "orig_nbformat": 4
 },
 "nbformat": 4,
 "nbformat_minor": 2
}
